{
 "cells": [
  {
   "cell_type": "code",
   "execution_count": 1,
   "metadata": {},
   "outputs": [],
   "source": [
    "import matplotlib.pyplot as plt\n",
    "import numpy as np\n",
    "import pickle\n",
    "import cv2\n",
    "import os\n",
    "import random\n",
    "import pandas as pd\n",
    "from collections import Counter\n",
    "np.random.seed(1234)"
   ]
  },
  {
   "cell_type": "code",
   "execution_count": 2,
   "metadata": {},
   "outputs": [],
   "source": [
    "import tqdm\n",
    "from utils import ThousandLandmarksDataset, ScaleMinSideToSize, CropCenter, TransformByKeys, CROP_SIZE\n",
    "from torch.utils.data import DataLoader\n",
    "from torchvision.transforms import transforms\n",
    "import seaborn as sns"
   ]
  },
  {
   "cell_type": "code",
   "execution_count": 4,
   "metadata": {},
   "outputs": [],
   "source": [
    "train_path = './data/train/images/'\n",
    "test_path = './data/test/images/'\n",
    "train_img_names = [os.path.join(train_path, name) for name in os.listdir(train_path)]\n",
    "test_img_names = [os.path.join(test_path, name) for name in os.listdir(test_path)]"
   ]
  },
  {
   "cell_type": "code",
   "execution_count": 3,
   "metadata": {},
   "outputs": [],
   "source": [
    "train_transforms = transforms.Compose([\n",
    "    ScaleMinSideToSize((CROP_SIZE, CROP_SIZE)),\n",
    "    CropCenter(CROP_SIZE),\n",
    "])"
   ]
  },
  {
   "cell_type": "code",
   "execution_count": 4,
   "metadata": {},
   "outputs": [
    {
     "name": "stderr",
     "output_type": "stream",
     "text": [
      " 80%|███████▉  | 51200/64001 [00:15<00:03, 3288.74it/s]\n",
      "100%|██████████| 16001/16001 [00:00<00:00, 576349.85it/s]\n"
     ]
    }
   ],
   "source": [
    "with open('bad_images.bd') as fin:\n",
    "    bad_img_names = fin.readlines()\n",
    "    bad_img_names = [i.strip() for i in bad_img_names]\n",
    "train_dataset = ThousandLandmarksDataset('data/train', train_transforms, split=\"train\",\n",
    "                                         bad_img_names=bad_img_names)\n",
    "train_dataloader = DataLoader(train_dataset, batch_size=512, num_workers=4, pin_memory=True,\n",
    "                              shuffle=True, drop_last=False)\n",
    "\n",
    "test_dataset = ThousandLandmarksDataset('data/test', train_transforms, split=\"test\")\n",
    "test_dataloader = DataLoader(test_dataset, batch_size=512, num_workers=4, pin_memory=True,\n",
    "                              shuffle=True, drop_last=False)"
   ]
  },
  {
   "cell_type": "code",
   "execution_count": 5,
   "metadata": {},
   "outputs": [],
   "source": [
    "def count_hist(dataloader, batch_size=32):\n",
    "    bgr_stat = [[] for _ in range(3)]\n",
    "    for batch in tqdm.tqdm(dataloader):\n",
    "        imgs = batch['image']\n",
    "        \n",
    "        red_values = [np.mean(img[:, :, 0].numpy()) for img in imgs]\n",
    "        green_values = [np.mean(img[:, :, 1].numpy()) for img in imgs]\n",
    "        blue_values = [np.mean(img[:, :, 2].numpy()) for img in imgs]\n",
    "        \n",
    "        bgr_stat[0].extend(blue_values)\n",
    "        bgr_stat[1].extend(green_values)\n",
    "        bgr_stat[2].extend(red_values)\n",
    "    return bgr_stat"
   ]
  },
  {
   "cell_type": "code",
   "execution_count": 6,
   "metadata": {},
   "outputs": [
    {
     "name": "stderr",
     "output_type": "stream",
     "text": [
      "100%|██████████| 100/100 [00:20<00:00,  4.94it/s]\n"
     ]
    }
   ],
   "source": [
    "train_rgb = count_hist(train_dataloader, batch_size=512)\n",
    "test_rgb = count_hist(test_dataloader, batch_size=512)"
   ]
  },
  {
   "cell_type": "code",
   "execution_count": 8,
   "metadata": {},
   "outputs": [
    {
     "data": {
      "text/plain": [
       "<matplotlib.axes._subplots.AxesSubplot at 0x7f3e038519e8>"
      ]
     },
     "execution_count": 8,
     "metadata": {},
     "output_type": "execute_result"
    },
    {
     "data": {
      "image/png": "[encoded data removed]",
      "text/plain": [
       "<Figure size 432x288 with 1 Axes>"
      ]
     },
     "metadata": {
      "needs_background": "light"
     },
     "output_type": "display_data"
    }
   ],
   "source": [
    "sns.histplot(train_rgb)"
   ]
  },
  {
   "cell_type": "code",
   "execution_count": 10,
   "metadata": {},
   "outputs": [
    {
     "data": {
      "text/plain": [
       "<matplotlib.axes._subplots.AxesSubplot at 0x7f3eb7c104a8>"
      ]
     },
     "execution_count": 10,
     "metadata": {},
     "output_type": "execute_result"
    },
    {
     "data": {
      "image/png": "[encoded data removed]",
      "text/plain": [
       "<Figure size 432x288 with 1 Axes>"
      ]
     },
     "metadata": {
      "needs_background": "light"
     },
     "output_type": "display_data"
    }
   ],
   "source": [
    "sns.histplot(test_rgb)"
   ]
  },
  {
   "cell_type": "code",
   "execution_count": null,
   "metadata": {},
   "outputs": [],
   "source": []
  }
 ],
 "metadata": {
  "kernelspec": {
   "display_name": "Python 3",
   "language": "python",
   "name": "python3"
  },
  "language_info": {
   "codemirror_mode": {
    "name": "ipython",
    "version": 3
   },
   "file_extension": ".py",
   "mimetype": "text/x-python",
   "name": "python",
   "nbconvert_exporter": "python",
   "pygments_lexer": "ipython3",
   "version": "3.7.3"
  }
 },
 "nbformat": 4,
 "nbformat_minor": 4
}
